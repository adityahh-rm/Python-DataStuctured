{
  "nbformat": 4,
  "nbformat_minor": 0,
  "metadata": {
    "colab": {
      "name": "Data Type in Python.ipynb",
      "provenance": [],
      "collapsed_sections": []
    },
    "kernelspec": {
      "name": "python3",
      "display_name": "Python 3"
    },
    "language_info": {
      "name": "python"
    }
  },
  "cells": [
    {
      "cell_type": "markdown",
      "source": [
        ""
      ],
      "metadata": {
        "id": "Or3te9WZoz9Y"
      }
    },
    {
      "cell_type": "markdown",
      "source": [
        "# **1. Data Tuple in Python**\n",
        "A tuple in Python is a data structure used to store a set of data. Tuples are immutable, meaning that the contents of the tuple cannot be changed or deleted. However, we can fill it with various values and objects."
      ],
      "metadata": {
        "id": "1Ne1JfzVman5"
      }
    },
    {
      "cell_type": "markdown",
      "source": [
        "How to Create Tuples in Python"
      ],
      "metadata": {
        "id": "Jdk4mTDwnQ6Q"
      }
    },
    {
      "cell_type": "markdown",
      "source": [
        "\n",
        "\n",
        "> `For Example ` :\n",
        "\n"
      ],
      "metadata": {
        "id": "leju0Yu7nhqH"
      }
    },
    {
      "cell_type": "code",
      "source": [
        "A = (1213, 3456, \"Hallo\")"
      ],
      "metadata": {
        "id": "WC1w1gHonjU4"
      },
      "execution_count": null,
      "outputs": []
    },
    {
      "cell_type": "code",
      "source": [
        "print(A)"
      ],
      "metadata": {
        "colab": {
          "base_uri": "https://localhost:8080/"
        },
        "id": "oPw_VLFynvem",
        "outputId": "25a8bdb2-80f4-4214-ded4-df00b9359f22"
      },
      "execution_count": null,
      "outputs": [
        {
          "output_type": "stream",
          "name": "stdout",
          "text": [
            "(1213, 3456, 'Hallo')\n"
          ]
        }
      ]
    },
    {
      "cell_type": "code",
      "source": [
        "#Creating Empty Tuples and Singletons\n",
        "A = ()"
      ],
      "metadata": {
        "id": "FIML6ts5n3l4"
      },
      "execution_count": null,
      "outputs": []
    },
    {
      "cell_type": "code",
      "source": [
        "# Accessing Tuple Values\n",
        "A = (1213, 3456, \"Hallo\")"
      ],
      "metadata": {
        "id": "pPd6N13moC-Y"
      },
      "execution_count": null,
      "outputs": []
    },
    {
      "cell_type": "code",
      "source": [
        "print(A[2])"
      ],
      "metadata": {
        "colab": {
          "base_uri": "https://localhost:8080/"
        },
        "id": "Q0DiagtmoH9R",
        "outputId": "f2ed2dc8-880e-400c-86a4-fabde02e172f"
      },
      "execution_count": null,
      "outputs": [
        {
          "output_type": "stream",
          "name": "stdout",
          "text": [
            "Hallo\n"
          ]
        }
      ]
    },
    {
      "cell_type": "markdown",
      "source": [
        "# **2. Data Tuple in Python**\n",
        "List is a data structure in python that can store more than one data, such as an array."
      ],
      "metadata": {
        "id": "xhzd-ojfoVs1"
      }
    },
    {
      "cell_type": "markdown",
      "source": [
        "We can create a list like a regular variable, but the value of the variable is filled with square brackets ([])."
      ],
      "metadata": {
        "id": "dQglTUd8jPVm"
      }
    },
    {
      "cell_type": "markdown",
      "source": [
        "\n",
        "\n",
        "> `For Example ` :\n",
        "\n"
      ],
      "metadata": {
        "id": "zKAkAwW4jkYL"
      }
    },
    {
      "cell_type": "code",
      "source": [
        "# create an empty list\n",
        "tool =[]"
      ],
      "metadata": {
        "id": "sjy8cEqYj-ty"
      },
      "execution_count": null,
      "outputs": []
    },
    {
      "cell_type": "code",
      "source": [
        "print(tool)"
      ],
      "metadata": {
        "colab": {
          "base_uri": "https://localhost:8080/"
        },
        "id": "gYD3V7ZhkgwD",
        "outputId": "24d8237e-c890-4a3b-abc6-c27e896a92f0"
      },
      "execution_count": null,
      "outputs": [
        {
          "output_type": "stream",
          "name": "stdout",
          "text": [
            "[]\n"
          ]
        }
      ]
    },
    {
      "cell_type": "code",
      "source": [
        "# Make a list with the contents of 1 item\n",
        "item = [\"pen\"]"
      ],
      "metadata": {
        "id": "p1cB9YmdkSVE"
      },
      "execution_count": null,
      "outputs": []
    },
    {
      "cell_type": "code",
      "source": [
        "print(item)"
      ],
      "metadata": {
        "colab": {
          "base_uri": "https://localhost:8080/"
        },
        "id": "0_82EEbRkj07",
        "outputId": "f4ba3d12-2fb1-4964-b179-15eb285332c1"
      },
      "execution_count": null,
      "outputs": [
        {
          "output_type": "stream",
          "name": "stdout",
          "text": [
            "['pen']\n"
          ]
        }
      ]
    },
    {
      "cell_type": "code",
      "source": [
        "# make a list more than 1\n",
        "color = [\"red\", \"blue\", \"green\"]"
      ],
      "metadata": {
        "id": "n-FFzasajlpA"
      },
      "execution_count": null,
      "outputs": []
    },
    {
      "cell_type": "code",
      "source": [
        "print(color)"
      ],
      "metadata": {
        "colab": {
          "base_uri": "https://localhost:8080/"
        },
        "id": "--BtcqM8kweD",
        "outputId": "15d8713c-fe21-405f-98a2-f094a7b57965"
      },
      "execution_count": null,
      "outputs": [
        {
          "output_type": "stream",
          "name": "stdout",
          "text": [
            "['red', 'blue', 'green']\n"
          ]
        }
      ]
    },
    {
      "cell_type": "code",
      "source": [
        "# kinds of storage on the list\n",
        "word = [\"budi\", True, 3, 3.14]"
      ],
      "metadata": {
        "id": "ciVZhlQUlJdY"
      },
      "execution_count": null,
      "outputs": []
    },
    {
      "cell_type": "code",
      "source": [
        "print(word)"
      ],
      "metadata": {
        "colab": {
          "base_uri": "https://localhost:8080/"
        },
        "id": "jccbq9Y7lWs_",
        "outputId": "e8a6a88a-7077-4244-afdd-985d89ff8c92"
      },
      "execution_count": null,
      "outputs": [
        {
          "output_type": "stream",
          "name": "stdout",
          "text": [
            "['budi', True, 3, 3.14]\n"
          ]
        }
      ]
    },
    {
      "cell_type": "markdown",
      "source": [
        "### How to Retrieve Value from List"
      ],
      "metadata": {
        "id": "YumDLBSalm2J"
      }
    },
    {
      "cell_type": "markdown",
      "source": [
        "\n",
        "\n",
        "> `For Example ` :\n",
        "\n"
      ],
      "metadata": {
        "id": "X4FuwQSdlv3j"
      }
    },
    {
      "cell_type": "code",
      "source": [
        "fruit = [\"grape\", \"banana\", \"orange\", \"pineapple\"]"
      ],
      "metadata": {
        "id": "Ba1Da858lq3b"
      },
      "execution_count": null,
      "outputs": []
    },
    {
      "cell_type": "code",
      "source": [
        "print(fruit[2])"
      ],
      "metadata": {
        "colab": {
          "base_uri": "https://localhost:8080/"
        },
        "id": "vbCY6Mrjl8hQ",
        "outputId": "c1aa6dbe-a90a-483e-e3b7-1020d786faf7"
      },
      "execution_count": null,
      "outputs": [
        {
          "output_type": "stream",
          "name": "stdout",
          "text": [
            "orange\n"
          ]
        }
      ]
    },
    {
      "cell_type": "markdown",
      "source": [
        "# **3. Data Set in Python**\n",
        "Data Set is a collection of items that are unique and unordered (underordered collection). It has the characteristic of curly braces and each element is separated using curly brackets with commas."
      ],
      "metadata": {
        "id": "ZkGGXYvGygfQ"
      }
    },
    {
      "cell_type": "markdown",
      "source": [
        "> Different types of sets in Python\n",
        "\n",
        "*   Set of integers\n",
        "    `Numeral = {1, 2, 3}`\n",
        "\n",
        "*   Set of mixed data types\n",
        "    `Mixed = {176.5, \"Hello\", (100, 200, 300)}`"
      ],
      "metadata": {
        "id": "1vnQIpbpM4HB"
      }
    },
    {
      "cell_type": "markdown",
      "source": [
        "\n",
        "\n",
        "> `For Example ` :\n",
        "\n"
      ],
      "metadata": {
        "id": "vyKlxUv6869L"
      }
    },
    {
      "cell_type": "code",
      "execution_count": null,
      "metadata": {
        "id": "oMPsknyLwGI2"
      },
      "outputs": [],
      "source": [
        " Years = {2016,2016,2017,2018,2018,2018,2019,2020,2020,2021,2021,2022}"
      ]
    },
    {
      "cell_type": "code",
      "source": [
        "print(Years) "
      ],
      "metadata": {
        "colab": {
          "base_uri": "https://localhost:8080/"
        },
        "id": "aJEO3Ks5-mH5",
        "outputId": "380a18c8-4178-49a6-f0d3-c82d274b82ba"
      },
      "execution_count": null,
      "outputs": [
        {
          "output_type": "stream",
          "name": "stdout",
          "text": [
            "{2016, 2017, 2018, 2019, 2020, 2021, 2022}\n"
          ]
        }
      ]
    },
    {
      "cell_type": "markdown",
      "source": [
        "Taken only unique and duplicates do not appear from the year data"
      ],
      "metadata": {
        "id": "eVIZEAqjHbDH"
      }
    },
    {
      "cell_type": "code",
      "source": [
        "Words = {\"I am\", \"excited\", \"excited\", \"to\", \"learn\", \"python\", \"python\", \"every day\"}"
      ],
      "metadata": {
        "id": "mzRtDlGZBpHa"
      },
      "execution_count": null,
      "outputs": []
    },
    {
      "cell_type": "code",
      "source": [
        "print(Words) "
      ],
      "metadata": {
        "colab": {
          "base_uri": "https://localhost:8080/"
        },
        "id": "F_Z9IWRHExm2",
        "outputId": "f9d956b6-1d68-4fd3-bef1-51c45cd381c3"
      },
      "execution_count": null,
      "outputs": [
        {
          "output_type": "stream",
          "name": "stdout",
          "text": [
            "{'to', 'learn', 'python', 'I am', 'excited', 'every day'}\n"
          ]
        }
      ]
    },
    {
      "cell_type": "markdown",
      "source": [
        "Taken only unique and duplicates do not appear from the year data"
      ],
      "metadata": {
        "id": "Y4mm1q1XHLP1"
      }
    },
    {
      "cell_type": "markdown",
      "source": [
        "\n",
        "\n",
        "> What if we keep accessing set members using the index ?\n",
        "\n"
      ],
      "metadata": {
        "id": "BApJIYC9Fsdu"
      }
    },
    {
      "cell_type": "code",
      "source": [
        "print(words[1]) "
      ],
      "metadata": {
        "colab": {
          "base_uri": "https://localhost:8080/",
          "height": 165
        },
        "id": "6oKQZwlOGN-D",
        "outputId": "162a4ff8-8f75-49f6-9d8a-82c3d423dc3b"
      },
      "execution_count": null,
      "outputs": [
        {
          "output_type": "error",
          "ename": "NameError",
          "evalue": "ignored",
          "traceback": [
            "\u001b[0;31m---------------------------------------------------------------------------\u001b[0m",
            "\u001b[0;31mNameError\u001b[0m                                 Traceback (most recent call last)",
            "\u001b[0;32m<ipython-input-26-a9febceb1184>\u001b[0m in \u001b[0;36m<module>\u001b[0;34m()\u001b[0m\n\u001b[0;32m----> 1\u001b[0;31m \u001b[0mprint\u001b[0m\u001b[0;34m(\u001b[0m\u001b[0mwords\u001b[0m\u001b[0;34m[\u001b[0m\u001b[0;36m1\u001b[0m\u001b[0;34m]\u001b[0m\u001b[0;34m)\u001b[0m\u001b[0;34m\u001b[0m\u001b[0;34m\u001b[0m\u001b[0m\n\u001b[0m",
            "\u001b[0;31mNameError\u001b[0m: name 'words' is not defined"
          ]
        }
      ]
    },
    {
      "cell_type": "markdown",
      "source": [
        "The result is an error because the data set type does not have an index."
      ],
      "metadata": {
        "id": "bY4BdD4FHFxl"
      }
    },
    {
      "cell_type": "markdown",
      "source": [
        "# **4. Data Dictionary in Python**\n",
        "Dictionary is an unordered collection of items. Each item of a dictionary has a key/value pair. Dictionaries are optimized to retrieve values when the key is known."
      ],
      "metadata": {
        "id": "sINzcCEPIaoR"
      }
    },
    {
      "cell_type": "markdown",
      "source": [
        "\n",
        "\n",
        "> Different types of dictionaries in Python\n",
        "  *   empty dictionary\n",
        "      `dict = {}`\n",
        "  *   dictionary with integer keys\n",
        "      `dict = {1: 'apple', 2: 'ball'}`\n",
        "  *   dictionary with mixed keys\n",
        "      `dict = {'name': 'John', 1: [2, 4, 3]}`\n",
        "   \n",
        "\n",
        "\n",
        "\n",
        "\n",
        "\n",
        "\n",
        "\n",
        "\n"
      ],
      "metadata": {
        "id": "AQIidkS0LfSJ"
      }
    },
    {
      "cell_type": "markdown",
      "source": [
        "In python, the dictionary is defined by curly and the following is an additional definition.\n",
        "\n",
        "* Each key-value pair element is separated by a comma(,)\n",
        "* Key and value are separated by a two-point (:)\n",
        "* Key and value can be any type of variable/object"
      ],
      "metadata": {
        "id": "8adz67fSTvL5"
      }
    },
    {
      "cell_type": "markdown",
      "source": [
        "\n",
        "\n",
        "> For Example :\n",
        "\n"
      ],
      "metadata": {
        "id": "VQQSEaEJUvn0"
      }
    },
    {
      "cell_type": "code",
      "source": [
        "Profile = {\"Name\": \"John Mayer\", \"Adress\": \"Wakanda\", \"Hobby\": \"Data Enthusiast\", \"Gender\": \"Male\", \n",
        "           \"Height\": \"189 cm\", \"Key Skills\": \"[1.Python, 2.Data Visualization(Tableau)]\"}"
      ],
      "metadata": {
        "id": "aUvgSwvBLxwy"
      },
      "execution_count": null,
      "outputs": []
    },
    {
      "cell_type": "code",
      "source": [
        "type(Profile)"
      ],
      "metadata": {
        "colab": {
          "base_uri": "https://localhost:8080/"
        },
        "id": "E0_azw2hLkC5",
        "outputId": "8ee936c9-7165-477d-b855-a9524f5a3d23"
      },
      "execution_count": null,
      "outputs": [
        {
          "output_type": "execute_result",
          "data": {
            "text/plain": [
              "dict"
            ]
          },
          "metadata": {},
          "execution_count": 16
        }
      ]
    },
    {
      "cell_type": "code",
      "source": [
        "Profile[\"Name\"]"
      ],
      "metadata": {
        "colab": {
          "base_uri": "https://localhost:8080/",
          "height": 35
        },
        "id": "AZon4KUeb_Pr",
        "outputId": "b0d2c762-2bf6-42b2-ccf5-afba5725196c"
      },
      "execution_count": null,
      "outputs": [
        {
          "output_type": "execute_result",
          "data": {
            "text/plain": [
              "'John Mayer'"
            ],
            "application/vnd.google.colaboratory.intrinsic+json": {
              "type": "string"
            }
          },
          "metadata": {},
          "execution_count": 17
        }
      ]
    },
    {
      "cell_type": "code",
      "source": [
        "Profile[\"Adress\"]"
      ],
      "metadata": {
        "colab": {
          "base_uri": "https://localhost:8080/",
          "height": 35
        },
        "id": "M_zYSsJscVWe",
        "outputId": "856c2916-8a21-4ef1-fa23-aaff52e32e0b"
      },
      "execution_count": null,
      "outputs": [
        {
          "output_type": "execute_result",
          "data": {
            "text/plain": [
              "'Wakanda'"
            ],
            "application/vnd.google.colaboratory.intrinsic+json": {
              "type": "string"
            }
          },
          "metadata": {},
          "execution_count": 18
        }
      ]
    },
    {
      "cell_type": "code",
      "source": [
        "Profile[\"Hobby\"]"
      ],
      "metadata": {
        "colab": {
          "base_uri": "https://localhost:8080/",
          "height": 35
        },
        "id": "Y7ytRCDUcnCq",
        "outputId": "af2d8f85-7add-4f67-d1a3-17a9ab0bc8e6"
      },
      "execution_count": null,
      "outputs": [
        {
          "output_type": "execute_result",
          "data": {
            "text/plain": [
              "'Data Enthusiast'"
            ],
            "application/vnd.google.colaboratory.intrinsic+json": {
              "type": "string"
            }
          },
          "metadata": {},
          "execution_count": 19
        }
      ]
    },
    {
      "cell_type": "code",
      "source": [
        "Profile[\"Gender\"]"
      ],
      "metadata": {
        "colab": {
          "base_uri": "https://localhost:8080/",
          "height": 35
        },
        "id": "wsVVswl9cdU8",
        "outputId": "58c5bdc0-4c42-46f1-9947-dc50d2e76d44"
      },
      "execution_count": null,
      "outputs": [
        {
          "output_type": "execute_result",
          "data": {
            "text/plain": [
              "'Male'"
            ],
            "application/vnd.google.colaboratory.intrinsic+json": {
              "type": "string"
            }
          },
          "metadata": {},
          "execution_count": 20
        }
      ]
    },
    {
      "cell_type": "code",
      "source": [
        "Profile[\"Height\"]"
      ],
      "metadata": {
        "colab": {
          "base_uri": "https://localhost:8080/",
          "height": 35
        },
        "id": "4BF2TNEachvr",
        "outputId": "5e311dc3-43a9-4994-c7ce-509daa2283ec"
      },
      "execution_count": null,
      "outputs": [
        {
          "output_type": "execute_result",
          "data": {
            "text/plain": [
              "'189 cm'"
            ],
            "application/vnd.google.colaboratory.intrinsic+json": {
              "type": "string"
            }
          },
          "metadata": {},
          "execution_count": 21
        }
      ]
    },
    {
      "cell_type": "code",
      "source": [
        "Profile[\"Key Skills\"]"
      ],
      "metadata": {
        "colab": {
          "base_uri": "https://localhost:8080/",
          "height": 35
        },
        "id": "GF1iz9DzgiIo",
        "outputId": "42f37ae8-9b71-4190-d8e5-3d05360c4de7"
      },
      "execution_count": null,
      "outputs": [
        {
          "output_type": "execute_result",
          "data": {
            "text/plain": [
              "'[1.Python, 2.Data Visualization(Tableau)]'"
            ],
            "application/vnd.google.colaboratory.intrinsic+json": {
              "type": "string"
            }
          },
          "metadata": {},
          "execution_count": 29
        }
      ]
    }
  ]
}